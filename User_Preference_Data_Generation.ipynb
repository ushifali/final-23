{
  "nbformat": 4,
  "nbformat_minor": 0,
  "metadata": {
    "colab": {
      "provenance": [],
      "mount_file_id": "1YQ0qDBCjM74cqeBJ5gm88-42jlKLWhg0",
      "authorship_tag": "ABX9TyP7t1+SyFgYGErdkI+7kbcT",
      "include_colab_link": true
    },
    "kernelspec": {
      "name": "python3",
      "display_name": "Python 3"
    },
    "language_info": {
      "name": "python"
    }
  },
  "cells": [
    {
      "cell_type": "markdown",
      "metadata": {
        "id": "view-in-github",
        "colab_type": "text"
      },
      "source": [
        "<a href=\"https://colab.research.google.com/github/ushifali/final-23/blob/master/User_Preference_Data_Generation.ipynb\" target=\"_parent\"><img src=\"https://colab.research.google.com/assets/colab-badge.svg\" alt=\"Open In Colab\"/></a>"
      ]
    },
    {
      "cell_type": "code",
      "source": [
        "import csv\n",
        "import random\n",
        "\n",
        "# Define user preferences\n",
        "categories = [\"Chinese\", \"Italian\", \"Mexican\", \"Indian\", \"American\", \"Japanese\", \"Thai\", \"Mediterranean\", \"Continental\",\"Fast-Food\",\"Beverages\"]\n",
        "locations = [\"Koramangala\", \"Indiranagar\", \"JP Nagar\", \"Marathahalli\", \"HSR Layout\", \"Whitefield\", \"BTM Layout\", \"Malleshwaram\"]\n",
        "highlights = [\"Outdoor Seating\", \"Live Music\", \"Wifi\", \"Bar\", \"Buffet\", \"Fine Dining\", \"Vegetarian Options\", \"Private Dining Area\", \"Romantic\", \"Rooftop\"]\n",
        "\n",
        "# Generate a user's preferences by randomly selecting values from the above lists\n",
        "def generate_user_preferences():\n",
        "    return {\n",
        "        \"categories\": random.sample(categories, random.randint(1, len(categories))),\n",
        "        \"max_price\": random.randint(100, 2000),\n",
        "        \"locations\": random.sample(locations, random.randint(1, len(locations))),\n",
        "        \"min_rating\": round(random.uniform(3.0, 5.0), 1),\n",
        "        \"highlights\": random.sample(highlights, random.randint(0, len(highlights))),\n",
        "        \"max_distance\": round(random.uniform(0.5, 10.0), 1)  # in kilometers\n",
        "    }\n",
        "\n",
        "# Example usage: Generate preferences for 1000 users and save to CSV file\n",
        "with open('user_preferences.csv', mode='w') as file:\n",
        "    fieldnames = ['user_id', 'categories', 'max_price', 'locations', 'min_rating', 'highlights', 'max_distance']\n",
        "    writer = csv.DictWriter(file, fieldnames=fieldnames)\n",
        "    writer.writeheader()\n",
        "    for i in range(1000):\n",
        "        user_preferences = generate_user_preferences()\n",
        "        writer.writerow({\n",
        "            'user_id': i+1,\n",
        "            'categories': ', '.join(user_preferences['categories']),\n",
        "            'max_price': user_preferences['max_price'],\n",
        "            'locations': ', '.join(user_preferences['locations']),\n",
        "            'min_rating': user_preferences['min_rating'],\n",
        "            'highlights': ', '.join(user_preferences['highlights']),\n",
        "            'max_distance': user_preferences['max_distance']\n",
        "        })\n"
      ],
      "metadata": {
        "id": "R3HjbUgPjV1k"
      },
      "execution_count": 24,
      "outputs": []
    },
    {
      "cell_type": "code",
      "source": [
        "from google.colab import drive\n",
        "drive.mount('/content/drive')"
      ],
      "metadata": {
        "colab": {
          "base_uri": "https://localhost:8080/"
        },
        "id": "evs9za2-kSGP",
        "outputId": "76287346-5384-47cd-dd1a-8f4df5978675"
      },
      "execution_count": 25,
      "outputs": [
        {
          "output_type": "stream",
          "name": "stdout",
          "text": [
            "Drive already mounted at /content/drive; to attempt to forcibly remount, call drive.mount(\"/content/drive\", force_remount=True).\n"
          ]
        }
      ]
    },
    {
      "cell_type": "code",
      "source": [
        "import pandas as pd\n",
        "# Load data\n",
        "data = pd.read_csv('user_preferences.csv')\n",
        "data.to_csv('/content/drive/MyDrive/Filtering_Data/user_preferences.csv', encoding='utf-8')"
      ],
      "metadata": {
        "id": "Dr2yMsj0kYeR"
      },
      "execution_count": 27,
      "outputs": []
    }
  ]
}