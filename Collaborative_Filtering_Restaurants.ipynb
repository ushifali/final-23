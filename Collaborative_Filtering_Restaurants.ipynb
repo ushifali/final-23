{
  "nbformat": 4,
  "nbformat_minor": 0,
  "metadata": {
    "colab": {
      "provenance": [],
      "authorship_tag": "ABX9TyOHpqee9LGhJiWlO41RoPK2",
      "include_colab_link": true
    },
    "kernelspec": {
      "name": "python3",
      "display_name": "Python 3"
    },
    "language_info": {
      "name": "python"
    }
  },
  "cells": [
    {
      "cell_type": "markdown",
      "metadata": {
        "id": "view-in-github",
        "colab_type": "text"
      },
      "source": [
        "<a href=\"https://colab.research.google.com/github/ushifali/final-23/blob/master/Collaborative_Filtering_Restaurants.ipynb\" target=\"_parent\"><img src=\"https://colab.research.google.com/assets/colab-badge.svg\" alt=\"Open In Colab\"/></a>"
      ]
    },
    {
      "cell_type": "code",
      "source": [
        "from google.colab import drive\n",
        "drive.mount('/content/drive')"
      ],
      "metadata": {
        "colab": {
          "base_uri": "https://localhost:8080/"
        },
        "id": "q86QTgXJmCx0",
        "outputId": "36ab9097-8dc5-4cfe-d97c-17ab97db6563"
      },
      "execution_count": 2,
      "outputs": [
        {
          "output_type": "stream",
          "name": "stdout",
          "text": [
            "Mounted at /content/drive\n"
          ]
        }
      ]
    },
    {
      "cell_type": "code",
      "source": [
        "import pandas as pd\n",
        "\n",
        "# Load user preferences data\n",
        "user_preferences_df  = pd.read_csv('/content/drive/MyDrive/Filtering_Data/user_preferences.csv', encoding='utf-8')\n",
        "\n",
        "# Load restaurant data\n",
        "restaurants_df = pd.read_csv('/content/drive/MyDrive/Filtering_Data/content_filtered_data.csv', encoding='utf-8')"
      ],
      "metadata": {
        "id": "AXWfw3W0qDbh"
      },
      "execution_count": 3,
      "outputs": []
    },
    {
      "cell_type": "code",
      "execution_count": 8,
      "metadata": {
        "colab": {
          "base_uri": "https://localhost:8080/"
        },
        "id": "Sgad2gUVjwkV",
        "outputId": "0ebdd7d3-4b5c-47a2-c533-8db193f5ea8f"
      },
      "outputs": [
        {
          "output_type": "stream",
          "name": "stdout",
          "text": [
            "Top 5 restaurant recommendations for user 1:\n",
            "['Basant Roving Feast', 'SRKP Chettinad Restaurant', 'Asha Tiffins', 'Chai Kings', 'Khawa Karpo']\n"
          ]
        },
        {
          "output_type": "stream",
          "name": "stderr",
          "text": [
            "/usr/local/lib/python3.9/dist-packages/sklearn/preprocessing/_label.py:895: UserWarning: unknown class(es) ['Fast-Food', 'Italian', 'Japanese', 'Mediterranean', 'Mexican', 'Thai'] will be ignored\n",
            "  warnings.warn(\n",
            "/usr/local/lib/python3.9/dist-packages/sklearn/metrics/pairwise.py:2025: DataConversionWarning: Data was converted to boolean for metric jaccard\n",
            "  warnings.warn(msg, DataConversionWarning)\n"
          ]
        }
      ],
      "source": [
        "\n",
        "from sklearn.metrics.pairwise import pairwise_distances\n",
        "from sklearn.preprocessing import MultiLabelBinarizer\n",
        "\n",
        "\n",
        "# Define a function to calculate Jaccard similarity between a user's preferences and all restaurants\n",
        "def calculate_similarity(user_id):\n",
        "    user_prefs = user_preferences_df[user_preferences_df['user_id'] == user_id].iloc[:, 3:].values\n",
        "    restaurant_features = restaurants_df.iloc[:, 3:].values\n",
        "\n",
        "    # Create a MultiLabelBinarizer object to one-hot encode the values in each column as binary features\n",
        "    mlb = MultiLabelBinarizer()\n",
        "\n",
        "    # Fit the MultiLabelBinarizer on all the values in the 'Cuisines' column of the restaurants dataframe\n",
        "    mlb.fit(restaurants_df['Cuisines'].str.split(', '))\n",
        "\n",
        "    # Transform the 'Cuisines' column of both user preferences and restaurants dataframes into binary features\n",
        "    user_cuisines = mlb.transform(user_preferences_df[user_preferences_df['user_id'] == user_id]['categories'].str.split(', '))\n",
        "    restaurant_cuisines = mlb.transform(restaurants_df['Cuisines'].str.split(', '))\n",
        "\n",
        "    # Calculate Jaccard similarity between the user's preferences and all restaurants\n",
        "    similarities = pairwise_distances(user_cuisines, restaurant_cuisines, metric='jaccard')\n",
        "\n",
        "    return 1 - similarities[0]\n",
        "\n",
        "\n",
        "\n",
        "\n"
      ]
    },
    {
      "cell_type": "code",
      "source": [
        "restaurant_names = restaurants_df['Restaurant_Name']"
      ],
      "metadata": {
        "id": "-clNlaoptSak"
      },
      "execution_count": 13,
      "outputs": []
    },
    {
      "cell_type": "code",
      "source": [
        "# Example usage: Recommend top 5 restaurants for user 1\n",
        "user_id = 1\n",
        "similarities = calculate_similarity(user_id)\n",
        "restaurant_data = restaurants_df[['Restaurant_Name', 'Cuisines', 'Pricing_for_2', 'Locality', 'Dining_Rating','Distance']]\n",
        "recommendations = pd.DataFrame({'Restaurant_Name': restaurant_names, 'Similarity': similarities})\n",
        "recommendations = recommendations.merge(restaurant_data, on='Restaurant_Name').sort_values(by='Similarity', ascending=False).head(5)\n",
        "\n"
      ],
      "metadata": {
        "colab": {
          "base_uri": "https://localhost:8080/"
        },
        "id": "vF-nQlPHtW3-",
        "outputId": "f16c85ab-3393-417d-8c34-69a4d4c29e68"
      },
      "execution_count": 20,
      "outputs": [
        {
          "output_type": "stream",
          "name": "stderr",
          "text": [
            "/usr/local/lib/python3.9/dist-packages/sklearn/preprocessing/_label.py:895: UserWarning: unknown class(es) ['Fast-Food', 'Italian', 'Japanese', 'Mediterranean', 'Mexican', 'Thai'] will be ignored\n",
            "  warnings.warn(\n",
            "/usr/local/lib/python3.9/dist-packages/sklearn/metrics/pairwise.py:2025: DataConversionWarning: Data was converted to boolean for metric jaccard\n",
            "  warnings.warn(msg, DataConversionWarning)\n"
          ]
        }
      ]
    },
    {
      "cell_type": "code",
      "source": [
        "print(recommendations.to_string(index=False))"
      ],
      "metadata": {
        "colab": {
          "base_uri": "https://localhost:8080/"
        },
        "id": "aTbyzZ2-vHos",
        "outputId": "340d0c94-39dd-4d1f-a081-4ab30606bf39"
      },
      "execution_count": 21,
      "outputs": [
        {
          "output_type": "stream",
          "name": "stdout",
          "text": [
            "          Restaurant_Name  Similarity                                                                                      Cuisines  Pricing_for_2                         Locality  Dining_Rating  Distance\n",
            "      Basant Roving Feast    0.333333                                                    Chinese, American, Fast Food - Quick Bites          300.0                  Gokulam, Mysore           4.30  1.219701\n",
            "SRKP Chettinad Restaurant    0.250000                                 South Indian, Chinese, Kebab, Indian, Seafood - Casual Dining          200.0            Peelamedu, Coimbatore           4.30  2.048333\n",
            "             Asha Tiffins    0.222222 South Indian, North Indian, Chinese, Beverages, Desserts ,South Indian, Chinese - Quick Bites          200.0                   HSR, Bangalore           4.45  0.066930\n",
            "               Chai Kings    0.166667                                                                   Beverages, Fast Food - Café          200.0         Anna Nagar East, Chennai           4.30  2.543667\n",
            "              Khawa Karpo    0.142857                                                         Chinese, Tibetan, Momos - Quick Bites          350.0 Koramangala 5th Block, Bangalore           4.40  0.060455\n"
          ]
        }
      ]
    }
  ]
}