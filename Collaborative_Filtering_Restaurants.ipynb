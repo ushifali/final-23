{
  "nbformat": 4,
  "nbformat_minor": 0,
  "metadata": {
    "colab": {
      "provenance": [],
      "authorship_tag": "ABX9TyMVit02BiHnuINDiljqzrFi",
      "include_colab_link": true
    },
    "kernelspec": {
      "name": "python3",
      "display_name": "Python 3"
    },
    "language_info": {
      "name": "python"
    }
  },
  "cells": [
    {
      "cell_type": "markdown",
      "metadata": {
        "id": "view-in-github",
        "colab_type": "text"
      },
      "source": [
        "<a href=\"https://colab.research.google.com/github/ushifali/final-23/blob/master/Collaborative_Filtering_Restaurants.ipynb\" target=\"_parent\"><img src=\"https://colab.research.google.com/assets/colab-badge.svg\" alt=\"Open In Colab\"/></a>"
      ]
    },
    {
      "cell_type": "code",
      "source": [
        "from google.colab import drive\n",
        "drive.mount('/content/drive')"
      ],
      "metadata": {
        "colab": {
          "base_uri": "https://localhost:8080/"
        },
        "id": "q86QTgXJmCx0",
        "outputId": "b67f682c-4d06-4714-da48-916a51134051"
      },
      "execution_count": 1,
      "outputs": [
        {
          "output_type": "stream",
          "name": "stdout",
          "text": [
            "Mounted at /content/drive\n"
          ]
        }
      ]
    },
    {
      "cell_type": "code",
      "source": [
        "import pandas as pd\n",
        "\n",
        "# Load user preferences data\n",
        "user_preferences_df  = pd.read_csv('/content/drive/MyDrive/Filtering_Data/user_preferences.csv', encoding='utf-8')\n",
        "\n",
        "# Load restaurant data\n",
        "restaurants_df = pd.read_csv('/content/drive/MyDrive/Filtering_Data/content_filtered_data.csv', encoding='utf-8')"
      ],
      "metadata": {
        "id": "AXWfw3W0qDbh"
      },
      "execution_count": 2,
      "outputs": []
    },
    {
      "cell_type": "code",
      "execution_count": 3,
      "metadata": {
        "id": "Sgad2gUVjwkV"
      },
      "outputs": [],
      "source": [
        "\n",
        "from sklearn.metrics.pairwise import pairwise_distances\n",
        "from sklearn.preprocessing import MultiLabelBinarizer\n",
        "\n",
        "\n",
        "# Define a function to calculate Jaccard similarity between a user's preferences and all restaurants\n",
        "def calculate_similarity(user_id):\n",
        "    user_prefs = user_preferences_df[user_preferences_df['user_id'] == user_id].iloc[:, 3:].values\n",
        "    restaurant_features = restaurants_df.iloc[:, 3:].values\n",
        "\n",
        "    # Create a MultiLabelBinarizer object to one-hot encode the values in each column as binary features\n",
        "    mlb = MultiLabelBinarizer()\n",
        "\n",
        "    # Fit the MultiLabelBinarizer on all the values in the 'Cuisines' column of the restaurants dataframe\n",
        "    mlb.fit(restaurants_df['Cuisines'].str.split(', '))\n",
        "\n",
        "    # Transform the 'Cuisines' column of both user preferences and restaurants dataframes into binary features\n",
        "    user_cuisines = mlb.transform(user_preferences_df[user_preferences_df['user_id'] == user_id]['categories'].str.split(', '))\n",
        "    restaurant_cuisines = mlb.transform(restaurants_df['Cuisines'].str.split(', '))\n",
        "\n",
        "    # Calculate Jaccard similarity between the user's preferences and all restaurants\n",
        "    similarities = pairwise_distances(user_cuisines, restaurant_cuisines, metric='jaccard')\n",
        "\n",
        "    return 1 - similarities[0]\n",
        "\n",
        "\n",
        "\n",
        "\n"
      ]
    },
    {
      "cell_type": "code",
      "source": [
        "restaurant_names = restaurants_df['Restaurant_Name']"
      ],
      "metadata": {
        "id": "-clNlaoptSak"
      },
      "execution_count": 4,
      "outputs": []
    },
    {
      "cell_type": "code",
      "source": [
        "# Example usage: Recommend top 5 restaurants for user 1\n",
        "user_id = 1\n",
        "similarities = calculate_similarity(user_id)\n",
        "restaurant_data = restaurants_df[['Restaurant_Name', 'Cuisines', 'Pricing_for_2', 'Locality', 'Dining_Rating','Distance']]\n",
        "recommendations = pd.DataFrame({'Restaurant_Name': restaurant_names, 'Similarity': similarities})\n",
        "recommendations = recommendations.merge(restaurant_data, on='Restaurant_Name').sort_values(by='Similarity', ascending=False).head(5)\n",
        "\n"
      ],
      "metadata": {
        "colab": {
          "base_uri": "https://localhost:8080/"
        },
        "id": "vF-nQlPHtW3-",
        "outputId": "68af8bb7-72b9-45ed-e131-b671e3a85bad"
      },
      "execution_count": 5,
      "outputs": [
        {
          "output_type": "stream",
          "name": "stderr",
          "text": [
            "/usr/local/lib/python3.9/dist-packages/sklearn/preprocessing/_label.py:895: UserWarning: unknown class(es) ['Fast-Food', 'Italian', 'Japanese', 'Mediterranean', 'Mexican', 'Thai'] will be ignored\n",
            "  warnings.warn(\n",
            "/usr/local/lib/python3.9/dist-packages/sklearn/metrics/pairwise.py:2025: DataConversionWarning: Data was converted to boolean for metric jaccard\n",
            "  warnings.warn(msg, DataConversionWarning)\n"
          ]
        }
      ]
    },
    {
      "cell_type": "code",
      "source": [
        "print(recommendations.to_string(index=False))"
      ],
      "metadata": {
        "colab": {
          "base_uri": "https://localhost:8080/"
        },
        "id": "aTbyzZ2-vHos",
        "outputId": "8880a7a7-e757-46b5-f667-75917d38c4a4"
      },
      "execution_count": 6,
      "outputs": [
        {
          "output_type": "stream",
          "name": "stdout",
          "text": [
            "          Restaurant_Name  Similarity                                                                                      Cuisines  Pricing_for_2                         Locality  Dining_Rating  Distance\n",
            "      Basant Roving Feast    0.333333                                                    Chinese, American, Fast Food - Quick Bites          300.0                  Gokulam, Mysore           4.30  1.219701\n",
            "SRKP Chettinad Restaurant    0.250000                                 South Indian, Chinese, Kebab, Indian, Seafood - Casual Dining          200.0            Peelamedu, Coimbatore           4.30  2.048333\n",
            "             Asha Tiffins    0.222222 South Indian, North Indian, Chinese, Beverages, Desserts ,South Indian, Chinese - Quick Bites          200.0                   HSR, Bangalore           4.45  0.066930\n",
            "               Chai Kings    0.166667                                                                   Beverages, Fast Food - Café          200.0         Anna Nagar East, Chennai           4.30  2.543667\n",
            "              Khawa Karpo    0.142857                                                         Chinese, Tibetan, Momos - Quick Bites          350.0 Koramangala 5th Block, Bangalore           4.40  0.060455\n"
          ]
        }
      ]
    },
    {
      "cell_type": "code",
      "source": [
        "# Example usage: Recommend top 5 restaurants for user 5\n",
        "user_id = 5\n",
        "similarities = calculate_similarity(user_id)\n",
        "restaurant_data = restaurants_df[['Restaurant_Name', 'Cuisines', 'Pricing_for_2', 'Locality', 'Dining_Rating','Distance']]\n",
        "recommendations = pd.DataFrame({'Restaurant_Name': restaurant_names, 'Similarity': similarities})\n",
        "recommendations = recommendations.merge(restaurant_data, on='Restaurant_Name').sort_values(by='Similarity', ascending=False).head(5)\n",
        "print(recommendations.to_string(index=False))"
      ],
      "metadata": {
        "id": "FoUK9ExuyRP9",
        "outputId": "b13c30ba-0438-4583-c2cf-d4eb792d6212",
        "colab": {
          "base_uri": "https://localhost:8080/"
        }
      },
      "execution_count": 8,
      "outputs": [
        {
          "output_type": "stream",
          "name": "stdout",
          "text": [
            "          Restaurant_Name  Similarity                                                                 Cuisines  Pricing_for_2                 Locality  Dining_Rating  Distance\n",
            "      Basant Roving Feast    0.200000                               Chinese, American, Fast Food - Quick Bites          300.0          Gokulam, Mysore            4.3  1.219701\n",
            "             Cream Affair    0.166667                    American, Cafe, Desserts, Ice Cream - Dessert Parlour          300.0   White Town, Puducherry            4.3  2.406177\n",
            "SRKP Chettinad Restaurant    0.142857            South Indian, Chinese, Kebab, Indian, Seafood - Casual Dining          200.0    Peelamedu, Coimbatore            4.3  2.048333\n",
            "             eat.fit Cafe    0.142857 Healthy Food, North Indian, Biryani, Continental, Desserts - Quick Bites          300.0 Church Street, Bangalore            4.3  0.059175\n",
            "    Chikkanna Tiffin Room    0.000000                                                             South Indian          200.0   City Market, Bangalore            4.3  0.080320\n"
          ]
        },
        {
          "output_type": "stream",
          "name": "stderr",
          "text": [
            "/usr/local/lib/python3.9/dist-packages/sklearn/preprocessing/_label.py:895: UserWarning: unknown class(es) ['Fast-Food', 'Japanese', 'Mediterranean', 'Mexican', 'Thai'] will be ignored\n",
            "  warnings.warn(\n",
            "/usr/local/lib/python3.9/dist-packages/sklearn/metrics/pairwise.py:2025: DataConversionWarning: Data was converted to boolean for metric jaccard\n",
            "  warnings.warn(msg, DataConversionWarning)\n"
          ]
        }
      ]
    },
    {
      "cell_type": "code",
      "source": [
        "# Example usage: Recommend top 5 restaurants for user 20\n",
        "user_id = 20\n",
        "similarities = calculate_similarity(user_id)\n",
        "restaurant_data = restaurants_df[['Restaurant_Name', 'Cuisines', 'Pricing_for_2', 'Locality', 'Dining_Rating','Distance']]\n",
        "recommendations = pd.DataFrame({'Restaurant_Name': restaurant_names, 'Similarity': similarities})\n",
        "recommendations = recommendations.merge(restaurant_data, on='Restaurant_Name').sort_values(by='Similarity', ascending=False).head(5)\n",
        "print(recommendations.to_string(index=False))"
      ],
      "metadata": {
        "id": "01vkjqXnx_Bz",
        "outputId": "dee6034e-b714-4826-ed19-6b7608b6a761",
        "colab": {
          "base_uri": "https://localhost:8080/"
        }
      },
      "execution_count": 7,
      "outputs": [
        {
          "output_type": "stream",
          "name": "stdout",
          "text": [
            "          Restaurant_Name  Similarity                                                      Cuisines  Pricing_for_2                                      Locality  Dining_Rating  Distance\n",
            "      Basant Roving Feast    0.400000                    Chinese, American, Fast Food - Quick Bites          300.0                               Gokulam, Mysore            4.3  1.219701\n",
            "SRKP Chettinad Restaurant    0.285714 South Indian, Chinese, Kebab, Indian, Seafood - Casual Dining          200.0                         Peelamedu, Coimbatore            4.3  2.048333\n",
            "       New Krishna Bhavan    0.166667                           South Indian, North Indian, Chinese          200.0                       Malleshwaram, Bangalore            4.3  0.095973\n",
            "            Shifu's Momos    0.166667                       Momos, Chinese, Beverages - Quick Bites          200.0 GCDA Shopping Complex, Panampily Nagar, Kochi            4.6  3.304566\n",
            "              Khawa Karpo    0.166667                         Chinese, Tibetan, Momos - Quick Bites          350.0              Koramangala 5th Block, Bangalore            4.4  0.060455\n"
          ]
        },
        {
          "output_type": "stream",
          "name": "stderr",
          "text": [
            "/usr/local/lib/python3.9/dist-packages/sklearn/preprocessing/_label.py:895: UserWarning: unknown class(es) ['Fast-Food', 'Mediterranean', 'Mexican'] will be ignored\n",
            "  warnings.warn(\n",
            "/usr/local/lib/python3.9/dist-packages/sklearn/metrics/pairwise.py:2025: DataConversionWarning: Data was converted to boolean for metric jaccard\n",
            "  warnings.warn(msg, DataConversionWarning)\n"
          ]
        }
      ]
    }
  ]
}