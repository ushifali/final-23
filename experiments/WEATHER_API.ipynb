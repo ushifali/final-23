{
  "nbformat": 4,
  "nbformat_minor": 0,
  "metadata": {
    "colab": {
      "provenance": [],
      "include_colab_link": true
    },
    "kernelspec": {
      "name": "python3",
      "display_name": "Python 3"
    },
    "language_info": {
      "name": "python"
    }
  },
  "cells": [
    {
      "cell_type": "markdown",
      "metadata": {
        "id": "view-in-github",
        "colab_type": "text"
      },
      "source": [
        "<a href=\"https://colab.research.google.com/github/ushifali/final-23/blob/main/WEATHER_API.ipynb\" target=\"_parent\"><img src=\"https://colab.research.google.com/assets/colab-badge.svg\" alt=\"Open In Colab\"/></a>"
      ]
    },
    {
      "cell_type": "code",
      "execution_count": 6,
      "metadata": {
        "colab": {
          "base_uri": "https://localhost:8080/"
        },
        "id": "f2bbAUT14Q46",
        "outputId": "6adcc849-4260-4002-cb58-cf3a13784096"
      },
      "outputs": [
        {
          "output_type": "stream",
          "name": "stdout",
          "text": [
            "<Response [200]>\n"
          ]
        }
      ],
      "source": [
        "import requests\n",
        "import json\n",
        "\n",
        "# Replace YOUR_API_KEY with your actual API key\n",
        "api_key = \"068c7218e086423a9d693841230103\"\n",
        "# Replace CITY_NAME with the name of the city you want to get weather data for\n",
        "city_name = \"Bangalore\"\n",
        "\n",
        "# Construct the API URL\n",
        "url = f\"http://api.weatherapi.com/v1/current.json?key={api_key}&q={city_name}\"\n",
        "\n",
        "\n",
        "# Make the API call\n",
        "response = requests.get(url)\n",
        "print(response)\n",
        "\n"
      ]
    },
    {
      "cell_type": "code",
      "source": [
        "#this weather API IS FOR A MONTH . SO we need to create like 2 maybe? march 15 expires"
      ],
      "metadata": {
        "id": "ggWdUDGVMw-X"
      },
      "execution_count": null,
      "outputs": []
    },
    {
      "cell_type": "code",
      "source": [
        "\n",
        "# Parse the JSON data\n",
        "data = json.loads(response.text)\n",
        "\n",
        "print(data)\n",
        "\n"
      ],
      "metadata": {
        "colab": {
          "base_uri": "https://localhost:8080/"
        },
        "id": "98YlNDfbH_Jp",
        "outputId": "80a0b26b-1277-4c3e-a96f-f0facedad258"
      },
      "execution_count": 7,
      "outputs": [
        {
          "output_type": "stream",
          "name": "stdout",
          "text": [
            "{'location': {'name': 'Bangalore', 'region': 'Karnataka', 'country': 'India', 'lat': 12.98, 'lon': 77.58, 'tz_id': 'Asia/Kolkata', 'localtime_epoch': 1678648495, 'localtime': '2023-03-13 0:44'}, 'current': {'last_updated_epoch': 1678647600, 'last_updated': '2023-03-13 00:30', 'temp_c': 23.0, 'temp_f': 73.4, 'is_day': 0, 'condition': {'text': 'Partly cloudy', 'icon': '//cdn.weatherapi.com/weather/64x64/night/116.png', 'code': 1003}, 'wind_mph': 8.1, 'wind_kph': 13.0, 'wind_degree': 110, 'wind_dir': 'ESE', 'pressure_mb': 1019.0, 'pressure_in': 30.09, 'precip_mm': 0.0, 'precip_in': 0.0, 'humidity': 65, 'cloud': 25, 'feelslike_c': 25.0, 'feelslike_f': 77.0, 'vis_km': 6.0, 'vis_miles': 3.0, 'uv': 1.0, 'gust_mph': 17.4, 'gust_kph': 28.1}}\n"
          ]
        }
      ]
    },
    {
      "cell_type": "code",
      "source": [
        "# Print out the relevant weather data\n",
        "print(\"Temperature:\", data[\"current\"][\"temp_c\"])\n",
        "print(\"Humidity:\", data[\"current\"][\"humidity\"])\n",
        "print(\"Wind Speed:\", data[\"current\"][\"wind_kph\"])"
      ],
      "metadata": {
        "colab": {
          "base_uri": "https://localhost:8080/"
        },
        "id": "GKEp_lnsLHmy",
        "outputId": "ea17bcd9-2168-4bc5-d050-c09d31c35270"
      },
      "execution_count": null,
      "outputs": [
        {
          "output_type": "stream",
          "name": "stdout",
          "text": [
            "Temperature: 2.0\n",
            "Humidity: 80\n",
            "Wind Speed: 6.8\n"
          ]
        }
      ]
    },
    {
      "cell_type": "code",
      "source": [
        "#this is openAPI\n",
        "\n",
        "import requests\n",
        "import json\n",
        "\n",
        "# Replace YOUR_API_KEY with your actual API key\n",
        "api_key = \"4e534f08e0dedcdeec3e929244215bc6\"\n",
        "# Replace CITY_NAME with the name of the city you want to get weather data for\n",
        "city_name = \"London\"\n",
        "\n",
        "# Construct the API URL\n",
        "url = f\"https://api.openweathermap.org/data/2.5/weather?q={city_name}&appid={api_key}\"\n",
        "\n",
        "# Make the API call\n",
        "response = requests.get(url)\n",
        "\n",
        "# Parse the JSON data\n",
        "data = json.loads(response.text)\n",
        "\n",
        "# Print out the relevant weather data\n",
        "print(\"Temperature:\", data[\"main\"][\"temp\"])"
      ],
      "metadata": {
        "colab": {
          "base_uri": "https://localhost:8080/"
        },
        "id": "PrPpSpSULxii",
        "outputId": "95a7ba70-e26f-4549-9f3d-c10a3e6cac82"
      },
      "execution_count": 8,
      "outputs": [
        {
          "output_type": "stream",
          "name": "stdout",
          "text": [
            "Temperature: 283.43\n"
          ]
        }
      ]
    },
    {
      "cell_type": "code",
      "source": [
        "#weatherAPI using latitude and longtude"
      ],
      "metadata": {
        "id": "xTqPs7DyQqeD"
      },
      "execution_count": null,
      "outputs": []
    },
    {
      "cell_type": "code",
      "source": [
        "import requests\n",
        "\n",
        "# Prompt the user to enter latitude and longitude values\n",
        "latitude = input('Enter latitude: ')\n",
        "longitude = input('Enter longitude: ')\n",
        "api_key = \"4e534f08e0dedcdeec3e929244215bc6\"\n",
        "\n",
        "# Replace {latitude}, {longitude}, and {API key} with your own values\n",
        "url = f'https://api.openweathermap.org/data/2.5/weather?lat={latitude}&lon={longitude}&appid={api_key}'\n",
        "\n",
        "# Send a GET request to the API\n",
        "response = requests.get(url)\n",
        "\n",
        "if response.status_code == 200:\n",
        "    # Parse the JSON response and extract the weather information you need\n",
        "    weather_data = response.json()\n",
        "    temperature = weather_data['main']['temp']\n",
        "    humidity = weather_data['main']['humidity']\n",
        "    wind_speed = weather_data['wind']['speed']\n",
        "    # ...\n",
        "\n",
        "    # Print the weather information to the console\n",
        "    print(f'Temperature: {temperature} K')\n",
        "    print(f'Humidity: {humidity} %')\n",
        "    print(f'Wind speed: {wind_speed} m/s')\n",
        "else:\n",
        "    print('Error:', response.status_code)\n"
      ],
      "metadata": {
        "colab": {
          "base_uri": "https://localhost:8080/"
        },
        "id": "b6UtiUunQuI6",
        "outputId": "c0acdd00-b140-4c6e-9aaf-cd10b2b0ec0d"
      },
      "execution_count": 12,
      "outputs": [
        {
          "output_type": "stream",
          "name": "stdout",
          "text": [
            "Enter latitude: 22.78\n",
            "Enter longitude: 77.58\n",
            "Temperature: 296.71 K\n",
            "Humidity: 21 %\n",
            "Wind speed: 2.26 m/s\n"
          ]
        }
      ]
    }
  ]
}