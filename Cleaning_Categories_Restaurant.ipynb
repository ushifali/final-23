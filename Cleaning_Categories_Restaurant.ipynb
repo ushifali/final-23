{
  "nbformat": 4,
  "nbformat_minor": 0,
  "metadata": {
    "colab": {
      "provenance": [],
      "authorship_tag": "ABX9TyPFGb6vXbqj8JFAkitTmL+v",
      "include_colab_link": true
    },
    "kernelspec": {
      "name": "python3",
      "display_name": "Python 3"
    },
    "language_info": {
      "name": "python"
    }
  },
  "cells": [
    {
      "cell_type": "markdown",
      "metadata": {
        "id": "view-in-github",
        "colab_type": "text"
      },
      "source": [
        "<a href=\"https://colab.research.google.com/github/ushifali/final-23/blob/master/Cleaning_Categories_Restaurant.ipynb\" target=\"_parent\"><img src=\"https://colab.research.google.com/assets/colab-badge.svg\" alt=\"Open In Colab\"/></a>"
      ]
    },
    {
      "cell_type": "code",
      "execution_count": 1,
      "metadata": {
        "colab": {
          "base_uri": "https://localhost:8080/"
        },
        "id": "73mKqGLWL88v",
        "outputId": "93110e3f-5c37-433e-ebe2-ed320055ccb3"
      },
      "outputs": [
        {
          "output_type": "stream",
          "name": "stdout",
          "text": [
            "Mounted at /content/drive\n"
          ]
        }
      ],
      "source": [
        "\n",
        "from google.colab import drive\n",
        "drive.mount('/content/drive')\n",
        "     "
      ]
    },
    {
      "cell_type": "code",
      "source": [
        "import pandas as pd\n",
        "import numpy as np\n",
        "     \n",
        "# read the second CSV file\n",
        "restaurant_df = pd.read_csv('/content/drive/MyDrive/Cleaned_Data/combined/combined_restaurants.csv')\n"
      ],
      "metadata": {
        "id": "hI504okPMC8C"
      },
      "execution_count": 12,
      "outputs": []
    },
    {
      "cell_type": "code",
      "source": [
        "# Replace missing or null values with an empty string\n",
        "restaurant_df['Cuisines'].fillna('', inplace=True)\n",
        "\n",
        "# Define a lambda function to remove duplicates and count them\n",
        "def remove_duplicates_and_count(x):\n",
        "    cuisines = x.split(', ')\n",
        "    num_duplicates = len(cuisines) - len(set(cuisines))\n",
        "    unique_cuisines = set(cuisines)\n",
        "    return ', '.join(unique_cuisines), num_duplicates\n",
        "\n",
        "# Apply the lambda function to the \"Cuisines\" column\n",
        "restaurant_df[['Cuisines', 'Num_duplicates']] = restaurant_df['Cuisines'].apply(remove_duplicates_and_count).apply(pd.Series)\n",
        "\n",
        "# Print the updated DataFrame\n",
        "print(restaurant_df)"
      ],
      "metadata": {
        "colab": {
          "base_uri": "https://localhost:8080/"
        },
        "id": "RzMr_Gq5PNjt",
        "outputId": "4eea9719-9975-43d2-c25c-c1624db3fbc3"
      },
      "execution_count": 10,
      "outputs": [
        {
          "output_type": "stream",
          "name": "stdout",
          "text": [
            "                           Restaurant_Name  \\\n",
            "0                              # Wednesday   \n",
            "1      #1, Culinary Avenue - The Red Maple   \n",
            "2                        #54 Gully Kitchen   \n",
            "3                              #788 Avenue   \n",
            "4                        #981 The Food Hub   \n",
            "...                                    ...   \n",
            "44765                    Food Street - Veg   \n",
            "44766                            ट 4 Tasty   \n",
            "44767                          द Vege टेबल   \n",
            "44768                            स्पेस Bar   \n",
            "44769                    ह-tea The Tea Hut   \n",
            "\n",
            "                                                Cuisines  Pricing_for_2  \\\n",
            "0       Chinese, Fast Food, North Indian - Casual Dining          250.0   \n",
            "1       North Indian, Continental - Fine Dining, Chinese         1500.0   \n",
            "2      North Indian, Fast Food, Asian, Biryani, Stree...          500.0   \n",
            "3               Continental, North Indian - Bar, Italian         1900.0   \n",
            "4      North Indian, Chinese, Chettinad, Beverages, D...          750.0   \n",
            "...                                                  ...            ...   \n",
            "44765                            Fast Food - Quick Bites          250.0   \n",
            "44766                          Street Food - Quick Bites          300.0   \n",
            "44767  Continental, North Indian, Italian - Casual Di...         1000.0   \n",
            "44768           North Indian, Chinese, Continental - Bar         1700.0   \n",
            "44769  Beverages - Café, North Indian, Fast Food, Caf...          550.0   \n",
            "\n",
            "                                Locality  Dining_Rating  \\\n",
            "0                    Keshavpuram, Kanpur            3.5   \n",
            "1      The Red Maple Mashal, Rau, Indore            3.9   \n",
            "2                Malleshwaram, Bangalore            4.0   \n",
            "3               Jubilee Hills, Hyderabad            3.9   \n",
            "4                Kalyan Nagar, Bangalore            3.5   \n",
            "...                                  ...            ...   \n",
            "44765                      Ladpura, Kota            2.9   \n",
            "44766                       Old Goa, Goa            3.7   \n",
            "44767                      FC Road, Pune            4.2   \n",
            "44768                Koregaon Park, Pune            4.3   \n",
            "44769            Sarabha Nagar, Ludhiana            4.2   \n",
            "\n",
            "                                                 Website  \\\n",
            "0      https://www.zomato.com/kanpur/wednesday-keshav...   \n",
            "1      https://www.zomato.com/indore/1-culinary-avenu...   \n",
            "2      https://www.zomato.com/bangalore/54-gully-kitc...   \n",
            "3      https://www.zomato.com/hyderabad/788-avenue-ju...   \n",
            "4      https://www.zomato.com/bangalore/981-the-food-...   \n",
            "...                                                  ...   \n",
            "44765  https://www.zomato.com/kota/food-street-veg-la...   \n",
            "44766  https://www.zomato.com/goa/4-tasty-old-goa?utm...   \n",
            "44767  https://www.zomato.com/pune/vege-fc-road?utm_s...   \n",
            "44768  https://www.zomato.com/pune/bar-koregaon-park?...   \n",
            "44769  https://www.zomato.com/ludhiana/tea-the-tea-hu...   \n",
            "\n",
            "                                                 Address     Phone_No  \\\n",
            "0      H-1034, Awas Vikas-1, Bagia Crossing Road, Kal...          NaN   \n",
            "1      The Red Maple Mashal, Jhoomer Ghat, Rasalpura,...          NaN   \n",
            "2      54, Railway Parallel Road, Kumara Park, Malles...  9.19019E+11   \n",
            "3      788, Near Croma, Road 36, Jubilee Hills, Hyder...          NaN   \n",
            "4      981, 1st Block, 3rd Cross Road, Kalyan Nagar, ...  9.19539E+11   \n",
            "...                                                  ...          ...   \n",
            "44765  B-109, Narayan Residency Main Road Landmark, K...          NaN   \n",
            "44766  Royal Arcade, College Road, Marcela, Old Goa, Goa          NaN   \n",
            "44767  Survey 1251/2, Behind Champion Sports, Next to...          NaN   \n",
            "44768  1st Floor, Gera Legend, North Main Road, Oppos...          NaN   \n",
            "44769                      D-37, Sarabha Nagar, Ludhiana          NaN   \n",
            "\n",
            "        Latitude  Longitude                     Timings  \\\n",
            "0      26.496044  80.256227              11 AM to 11 PM   \n",
            "1      22.619918  75.809012            7:30 PM to 11 PM   \n",
            "2      12.989609  77.578307                         NaN   \n",
            "3      17.435019  78.401508      12 Noon to 12 Midnight   \n",
            "4      13.018763  77.652710                         NaN   \n",
            "...          ...        ...                         ...   \n",
            "44765  25.201385  75.834671           11 AM to 10:30 PM   \n",
            "44766  15.517375  73.959800  12 Noon to 10 PM (Mon-Sun)   \n",
            "44767  18.516664  73.842004    12:30pm – 11pm (Mon-Sun)   \n",
            "44768  18.539584  73.886446          12 Noon to 1:30 AM   \n",
            "44769  30.891917  75.822868              10 AM to 11 PM   \n",
            "\n",
            "                                              Highlights  Votes  Delivery  \\\n",
            "0      ['Dinner', 'Delivery', 'Lunch', 'Cash', 'Takea...   44.0       1.0   \n",
            "1      ['Takeaway Available', 'Credit Card', 'Dinner'...  340.0      -1.0   \n",
            "2                                                    NaN    NaN       NaN   \n",
            "3      ['Lunch', 'Cash', 'Takeaway Available', 'Debit...  695.0      -1.0   \n",
            "4                                                    NaN    NaN       NaN   \n",
            "...                                                  ...    ...       ...   \n",
            "44765                        ['Cash', 'Outdoor Seating']    4.0      -1.0   \n",
            "44766  ['Cash', 'Debit Card', 'No Alcohol Available',...   44.0      -1.0   \n",
            "44767  ['Cash', 'Credit Card', 'Lunch', 'Takeaway Ava...  817.0       1.0   \n",
            "44768  ['Lunch', 'Cash', 'Delivery', 'Credit Card', '...   91.0      -1.0   \n",
            "44769  ['No Alcohol Available', 'Dinner', 'Takeaway A...  621.0       1.0   \n",
            "\n",
            "       Takeaway  Num_duplicates  \n",
            "0          -1.0               0  \n",
            "1          -1.0               0  \n",
            "2           NaN               0  \n",
            "3          -1.0               0  \n",
            "4           NaN               0  \n",
            "...         ...             ...  \n",
            "44765      -1.0               0  \n",
            "44766      -1.0               0  \n",
            "44767      -1.0               0  \n",
            "44768      -1.0               0  \n",
            "44769      -1.0               0  \n",
            "\n",
            "[44770 rows x 16 columns]\n"
          ]
        }
      ]
    },
    {
      "cell_type": "code",
      "source": [
        "\n",
        "# Print the values in the \"Num_duplicates\" column only if they are not equal to zero\n",
        "print(restaurant_df.loc[restaurant_df['Num_duplicates'] != 0, 'Num_duplicates'])"
      ],
      "metadata": {
        "colab": {
          "base_uri": "https://localhost:8080/"
        },
        "id": "l3HIDyiSPfR_",
        "outputId": "22885267-b4e1-4113-8c0a-c2e13e4b3fc3"
      },
      "execution_count": 11,
      "outputs": [
        {
          "output_type": "stream",
          "name": "stdout",
          "text": [
            "13        2\n",
            "29        2\n",
            "40       16\n",
            "42        1\n",
            "43        3\n",
            "         ..\n",
            "44654     1\n",
            "44687    36\n",
            "44705     1\n",
            "44709    86\n",
            "44726     1\n",
            "Name: Num_duplicates, Length: 3337, dtype: int64\n"
          ]
        }
      ]
    },
    {
      "cell_type": "code",
      "source": [
        "\n",
        "# Delete the \"Num_duplicates\" column\n",
        "restaurant_df.drop(columns=['Num_duplicates'], inplace=True)\n",
        "\n",
        "# Save the updated DataFrame to a CSV file in your Google Drive\n",
        "restaurant_df.to_csv('/content/drive/MyDrive/Cleaned_Data/combined/combined_restaurants.csv')"
      ],
      "metadata": {
        "id": "h1GWl_hnPwb_"
      },
      "execution_count": null,
      "outputs": []
    }
  ]
}